{
 "cells": [
  {
   "cell_type": "code",
   "execution_count": 1,
   "id": "7ce5c5e9",
   "metadata": {},
   "outputs": [
    {
     "name": "stdout",
     "output_type": "stream",
     "text": [
      "757.4 209.29999999999998\n"
     ]
    }
   ],
   "source": [
    "c = 0.7\n",
    "a= c*1082\n",
    "b=c*299\n",
    "print(a,b)"
   ]
  },
  {
   "cell_type": "code",
   "execution_count": null,
   "id": "51218ec3",
   "metadata": {},
   "outputs": [],
   "source": []
  },
  {
   "cell_type": "code",
   "execution_count": null,
   "id": "0171c819",
   "metadata": {},
   "outputs": [],
   "source": []
  },
  {
   "cell_type": "code",
   "execution_count": 8,
   "id": "6dec74fa",
   "metadata": {},
   "outputs": [],
   "source": [
    "import psycopg2\n",
    "conn = psycopg2.connect('host=localhost dbname=training user=postgres')\n",
    "cur = conn.cursor()"
   ]
  },
  {
   "cell_type": "code",
   "execution_count": 83,
   "id": "bd4b6a6b",
   "metadata": {},
   "outputs": [],
   "source": [
    "x = 'Maths'"
   ]
  },
  {
   "cell_type": "code",
   "execution_count": 84,
   "id": "ee97dc1e",
   "metadata": {},
   "outputs": [],
   "source": [
    "cur.execute(f\"INSERT INTO subject(subject_name) VALUES('{x}')\")"
   ]
  },
  {
   "cell_type": "code",
   "execution_count": 9,
   "id": "6b5e0a65",
   "metadata": {},
   "outputs": [
    {
     "data": {
      "text/plain": [
       "[(1, 'Physics'),\n",
       " (4, 'Chemistry'),\n",
       " (5, 'Maths'),\n",
       " (6, 'Histroy'),\n",
       " (7, 'Maths'),\n",
       " (8, 'Maths'),\n",
       " (9, 'Chemistry'),\n",
       " (10, 'Maths'),\n",
       " (11, 'Chemistry'),\n",
       " (12, 'Drawing'),\n",
       " (13, 'Physical Education'),\n",
       " (14, 'Biology'),\n",
       " (15, 'Economics')]"
      ]
     },
     "execution_count": 9,
     "metadata": {},
     "output_type": "execute_result"
    }
   ],
   "source": [
    "cur.execute('select * from subject')\n",
    "all = cur.fetchall()\n",
    "subjects_set = set()\n",
    "for y in all:\n",
    "    subjects_set.add(y[1])"
   ]
  },
  {
   "cell_type": "code",
   "execution_count": 13,
   "id": "2cc146de",
   "metadata": {},
   "outputs": [],
   "source": []
  },
  {
   "cell_type": "code",
   "execution_count": 14,
   "id": "2dd13051",
   "metadata": {},
   "outputs": [
    {
     "data": {
      "text/plain": [
       "{'Biology',\n",
       " 'Chemistry',\n",
       " 'Drawing',\n",
       " 'Economics',\n",
       " 'Histroy',\n",
       " 'Maths',\n",
       " 'Physical Education',\n",
       " 'Physics'}"
      ]
     },
     "execution_count": 14,
     "metadata": {},
     "output_type": "execute_result"
    }
   ],
   "source": [
    "subjects_set"
   ]
  },
  {
   "cell_type": "code",
   "execution_count": 86,
   "id": "2331d106",
   "metadata": {},
   "outputs": [],
   "source": [
    "conn.commit()"
   ]
  },
  {
   "cell_type": "code",
   "execution_count": null,
   "id": "bb04d7c2",
   "metadata": {},
   "outputs": [],
   "source": []
  },
  {
   "cell_type": "markdown",
   "id": "04933164",
   "metadata": {},
   "source": [
    "# Making the connection"
   ]
  },
  {
   "cell_type": "code",
   "execution_count": 76,
   "id": "2744e9fc",
   "metadata": {},
   "outputs": [],
   "source": [
    "import psycopg2\n",
    "import pandas as pd\n",
    "conn = psycopg2.connect('host=localhost dbname=training user=postgres')\n",
    "cur = conn.cursor()"
   ]
  },
  {
   "cell_type": "markdown",
   "id": "21cc5929",
   "metadata": {},
   "source": [
    "# Subject"
   ]
  },
  {
   "cell_type": "code",
   "execution_count": null,
   "id": "84304ea0",
   "metadata": {},
   "outputs": [],
   "source": []
  },
  {
   "cell_type": "code",
   "execution_count": null,
   "id": "9303b156",
   "metadata": {},
   "outputs": [],
   "source": [
    "# add unique constraint\n",
    "# add the new cells in excel and write a try catch\n",
    "# mark the cells done once it is updated"
   ]
  },
  {
   "cell_type": "code",
   "execution_count": 32,
   "id": "0d7c5797",
   "metadata": {},
   "outputs": [],
   "source": []
  },
  {
   "cell_type": "code",
   "execution_count": 77,
   "id": "e929fb8a",
   "metadata": {},
   "outputs": [
    {
     "name": "stdout",
     "output_type": "stream",
     "text": [
      "x\n",
      "x\n",
      "x\n"
     ]
    }
   ],
   "source": [
    "df = pd.read_excel('subject.xlsx')\n",
    "df1 = df[df['status']!='Done']\n",
    "for x in df1['subject_name']:\n",
    "#     print('x')\n",
    "    try:\n",
    "        cur.execute(f\"INSERT INTO subjects(subject_name) VALUES('{x}')\")\n",
    "        conn.commit()\n",
    "    except:\n",
    "#         print('hi',x)\n",
    "        conn.commit()\n",
    "        continue\n",
    "    \n",
    "df['status'] = 'Done'\n",
    "df.to_excel('subject.xlsx',index=False)"
   ]
  },
  {
   "cell_type": "code",
   "execution_count": 70,
   "id": "eccb8181",
   "metadata": {},
   "outputs": [],
   "source": [
    "df['status'] = 'Done1'\n",
    "df.to_excel('subject.xlsx',index=False)"
   ]
  },
  {
   "cell_type": "code",
   "execution_count": 71,
   "id": "5a1890ca",
   "metadata": {},
   "outputs": [
    {
     "data": {
      "text/html": [
       "<div>\n",
       "<style scoped>\n",
       "    .dataframe tbody tr th:only-of-type {\n",
       "        vertical-align: middle;\n",
       "    }\n",
       "\n",
       "    .dataframe tbody tr th {\n",
       "        vertical-align: top;\n",
       "    }\n",
       "\n",
       "    .dataframe thead th {\n",
       "        text-align: right;\n",
       "    }\n",
       "</style>\n",
       "<table border=\"1\" class=\"dataframe\">\n",
       "  <thead>\n",
       "    <tr style=\"text-align: right;\">\n",
       "      <th></th>\n",
       "      <th>subject_id</th>\n",
       "      <th>subject_name</th>\n",
       "      <th>status</th>\n",
       "    </tr>\n",
       "  </thead>\n",
       "  <tbody>\n",
       "    <tr>\n",
       "      <th>0</th>\n",
       "      <td>2.0</td>\n",
       "      <td>Maths</td>\n",
       "      <td>Done1</td>\n",
       "    </tr>\n",
       "    <tr>\n",
       "      <th>1</th>\n",
       "      <td>3.0</td>\n",
       "      <td>Chemistry</td>\n",
       "      <td>Done1</td>\n",
       "    </tr>\n",
       "    <tr>\n",
       "      <th>2</th>\n",
       "      <td>NaN</td>\n",
       "      <td>Drawing</td>\n",
       "      <td>Done1</td>\n",
       "    </tr>\n",
       "    <tr>\n",
       "      <th>3</th>\n",
       "      <td>NaN</td>\n",
       "      <td>Physical Education</td>\n",
       "      <td>Done1</td>\n",
       "    </tr>\n",
       "    <tr>\n",
       "      <th>4</th>\n",
       "      <td>NaN</td>\n",
       "      <td>Biology</td>\n",
       "      <td>Done1</td>\n",
       "    </tr>\n",
       "    <tr>\n",
       "      <th>5</th>\n",
       "      <td>NaN</td>\n",
       "      <td>Economics</td>\n",
       "      <td>Done1</td>\n",
       "    </tr>\n",
       "    <tr>\n",
       "      <th>6</th>\n",
       "      <td>NaN</td>\n",
       "      <td>Economics</td>\n",
       "      <td>Done1</td>\n",
       "    </tr>\n",
       "    <tr>\n",
       "      <th>7</th>\n",
       "      <td>NaN</td>\n",
       "      <td>AI</td>\n",
       "      <td>Done1</td>\n",
       "    </tr>\n",
       "    <tr>\n",
       "      <th>8</th>\n",
       "      <td>NaN</td>\n",
       "      <td>Economics</td>\n",
       "      <td>Done1</td>\n",
       "    </tr>\n",
       "    <tr>\n",
       "      <th>9</th>\n",
       "      <td>NaN</td>\n",
       "      <td>Economics</td>\n",
       "      <td>Done1</td>\n",
       "    </tr>\n",
       "    <tr>\n",
       "      <th>10</th>\n",
       "      <td>NaN</td>\n",
       "      <td>Drawing</td>\n",
       "      <td>Done1</td>\n",
       "    </tr>\n",
       "    <tr>\n",
       "      <th>11</th>\n",
       "      <td>NaN</td>\n",
       "      <td>Craft</td>\n",
       "      <td>Done1</td>\n",
       "    </tr>\n",
       "  </tbody>\n",
       "</table>\n",
       "</div>"
      ],
      "text/plain": [
       "    subject_id        subject_name status\n",
       "0          2.0               Maths  Done1\n",
       "1          3.0           Chemistry  Done1\n",
       "2          NaN             Drawing  Done1\n",
       "3          NaN  Physical Education  Done1\n",
       "4          NaN             Biology  Done1\n",
       "5          NaN           Economics  Done1\n",
       "6          NaN           Economics  Done1\n",
       "7          NaN                  AI  Done1\n",
       "8          NaN           Economics  Done1\n",
       "9          NaN           Economics  Done1\n",
       "10         NaN             Drawing  Done1\n",
       "11         NaN               Craft  Done1"
      ]
     },
     "execution_count": 71,
     "metadata": {},
     "output_type": "execute_result"
    }
   ],
   "source": [
    "df"
   ]
  },
  {
   "cell_type": "code",
   "execution_count": null,
   "id": "fd81e1ed",
   "metadata": {},
   "outputs": [],
   "source": []
  },
  {
   "cell_type": "code",
   "execution_count": null,
   "id": "d52fb9b4",
   "metadata": {},
   "outputs": [],
   "source": [
    "df = pd.read_excel('subject.xlsx')\n",
    "for x in df['subject_name']:\n",
    "    if x not in subjects_set:\n",
    "        cur.execute(f\"INSERT INTO subject(subject_name) VALUES('{x}')\")\n",
    "        conn.commit()"
   ]
  },
  {
   "cell_type": "code",
   "execution_count": null,
   "id": "a45a4759",
   "metadata": {},
   "outputs": [],
   "source": []
  },
  {
   "cell_type": "code",
   "execution_count": null,
   "id": "e06028b4",
   "metadata": {},
   "outputs": [],
   "source": []
  },
  {
   "cell_type": "code",
   "execution_count": 30,
   "id": "06b3d553",
   "metadata": {},
   "outputs": [],
   "source": [
    "# cur.execute('select * from subject')  \n",
    "# all = cur.fetchall()\n",
    "# subjects_set = set()\n",
    "# for y in all:\n",
    "#     subjects_set.add(y[1])"
   ]
  },
  {
   "cell_type": "code",
   "execution_count": 31,
   "id": "ab04d0b1",
   "metadata": {},
   "outputs": [],
   "source": [
    "# df = pd.read_excel('subject.xlsx')\n",
    "# for x in df['subject_name']:\n",
    "#     if x not in subjects_set:\n",
    "#         cur.execute(f\"INSERT INTO subject(subject_name) VALUES('{x}')\")\n",
    "#         conn.commit()"
   ]
  },
  {
   "cell_type": "code",
   "execution_count": null,
   "id": "b00d40d0",
   "metadata": {},
   "outputs": [],
   "source": []
  },
  {
   "cell_type": "markdown",
   "id": "4382a9bd",
   "metadata": {},
   "source": [
    "# Batches"
   ]
  },
  {
   "cell_type": "code",
   "execution_count": null,
   "id": "07fc2598",
   "metadata": {},
   "outputs": [],
   "source": [
    "df = pd.read_excel('batch.xlsx')\n",
    "for x in df['batch_name']:\n",
    "    cur.execute(f\"INSERT INTO batch(batch_name) VALUES('{x}')\")\n",
    "    conn.commit()"
   ]
  },
  {
   "cell_type": "code",
   "execution_count": null,
   "id": "3963d3eb",
   "metadata": {},
   "outputs": [],
   "source": []
  },
  {
   "cell_type": "code",
   "execution_count": null,
   "id": "0387bdfb",
   "metadata": {},
   "outputs": [],
   "source": []
  },
  {
   "cell_type": "markdown",
   "id": "f9b492a4",
   "metadata": {},
   "source": [
    "# Day 5"
   ]
  },
  {
   "cell_type": "code",
   "execution_count": null,
   "id": "de2d2f21",
   "metadata": {},
   "outputs": [],
   "source": []
  },
  {
   "cell_type": "code",
   "execution_count": 1,
   "id": "6a63a902",
   "metadata": {},
   "outputs": [],
   "source": [
    "import psycopg2\n",
    "import pandas as pd\n",
    "conn = psycopg2.connect('host=localhost dbname=training user=postgres')\n",
    "cur = conn.cursor()"
   ]
  },
  {
   "cell_type": "code",
   "execution_count": null,
   "id": "2d1547b1",
   "metadata": {},
   "outputs": [],
   "source": []
  },
  {
   "cell_type": "code",
   "execution_count": null,
   "id": "b6118d5a",
   "metadata": {},
   "outputs": [],
   "source": []
  },
  {
   "cell_type": "code",
   "execution_count": 99,
   "id": "33ead3a9",
   "metadata": {},
   "outputs": [],
   "source": [
    "cur.execute(f\"select subject_id from subjects where subject_name = 'Maths';\")"
   ]
  },
  {
   "cell_type": "code",
   "execution_count": 100,
   "id": "cde2abc6",
   "metadata": {},
   "outputs": [],
   "source": [
    "x = cur.fetchone()"
   ]
  },
  {
   "cell_type": "code",
   "execution_count": 103,
   "id": "a0df9e91",
   "metadata": {},
   "outputs": [
    {
     "data": {
      "text/plain": [
       "12"
      ]
     },
     "execution_count": 103,
     "metadata": {},
     "output_type": "execute_result"
    }
   ],
   "source": [
    "x[0]"
   ]
  },
  {
   "cell_type": "code",
   "execution_count": 13,
   "id": "a30b0236",
   "metadata": {},
   "outputs": [],
   "source": [
    "df = pd.read_excel('teacher.ods')\n",
    "df1 = df[df['status']!='Done']"
   ]
  },
  {
   "cell_type": "code",
   "execution_count": 7,
   "id": "45d7aabb",
   "metadata": {},
   "outputs": [
    {
     "name": "stdout",
     "output_type": "stream",
     "text": [
      "x\n",
      "x\n",
      "x\n",
      "x\n",
      "x\n",
      "x\n"
     ]
    }
   ],
   "source": [
    "df = pd.read_excel('teacher.ods')\n",
    "df1 = df[df['status']!='Done']\n",
    "for teacher,subject in df1[['teacher_name','subject_name']].values:\n",
    "    print('x')\n",
    "    cur.execute(f\"select subject_id from subjects where subject_name = '{subject}';\")\n",
    "    \n",
    "    try:\n",
    "        sub_id = cur.fetchone()[0]\n",
    "#         print(type(sub_id),sub_id)\n",
    "#         print(sub_id,teacher)\n",
    "        cur.execute(f\"INSERT INTO teachers(subject_id,teacher_name) VALUES('{sub_id}','{teacher}');\")\n",
    "        conn.commit()\n",
    "#         print('executed')\n",
    "    except:\n",
    "#         print('hi',x)\n",
    "#         print('missed')\n",
    "        conn.commit()\n",
    "        continue\n",
    "    \n",
    "df['status'] = 'Done'\n",
    "df.to_excel('teacher.ods',index=False)"
   ]
  },
  {
   "cell_type": "code",
   "execution_count": 23,
   "id": "d4a8e14c",
   "metadata": {},
   "outputs": [
    {
     "ename": "ForeignKeyViolation",
     "evalue": "insert or update on table \"teacher\" violates foreign key constraint \"fk_subject_id\"\nDETAIL:  Key (subject_id)=(16) is not present in table \"subject\".\n",
     "output_type": "error",
     "traceback": [
      "\u001b[0;31m---------------------------------------------------------------------------\u001b[0m",
      "\u001b[0;31mForeignKeyViolation\u001b[0m                       Traceback (most recent call last)",
      "\u001b[0;32m/tmp/ipykernel_259465/4145080713.py\u001b[0m in \u001b[0;36m<module>\u001b[0;34m\u001b[0m\n\u001b[0;32m----> 1\u001b[0;31m \u001b[0mcur\u001b[0m\u001b[0;34m.\u001b[0m\u001b[0mexecute\u001b[0m\u001b[0;34m(\u001b[0m\u001b[0;34mf\"INSERT INTO teacher(subject_id,teacher_name) VALUES('{sub_id}','{teacher}');\"\u001b[0m\u001b[0;34m)\u001b[0m\u001b[0;34m\u001b[0m\u001b[0;34m\u001b[0m\u001b[0m\n\u001b[0m\u001b[1;32m      2\u001b[0m \u001b[0mconn\u001b[0m\u001b[0;34m.\u001b[0m\u001b[0mcommit\u001b[0m\u001b[0;34m(\u001b[0m\u001b[0;34m)\u001b[0m\u001b[0;34m\u001b[0m\u001b[0;34m\u001b[0m\u001b[0m\n",
      "\u001b[0;31mForeignKeyViolation\u001b[0m: insert or update on table \"teacher\" violates foreign key constraint \"fk_subject_id\"\nDETAIL:  Key (subject_id)=(16) is not present in table \"subject\".\n"
     ]
    }
   ],
   "source": [
    "# cur.execute(f\"INSERT INTO teacher(subject_id,teacher_name) VALUES('{sub_id}','{teacher}');\")\n",
    "# conn.commit()"
   ]
  },
  {
   "cell_type": "code",
   "execution_count": 24,
   "id": "c5443eac",
   "metadata": {},
   "outputs": [],
   "source": [
    "df['status'] = 'Not Done'\n",
    "df.to_excel('teacher.ods',index=False)"
   ]
  },
  {
   "cell_type": "code",
   "execution_count": 3,
   "id": "fd9761b8",
   "metadata": {},
   "outputs": [
    {
     "name": "stdout",
     "output_type": "stream",
     "text": [
      "12\n",
      "26\n",
      "13\n",
      "16\n"
     ]
    }
   ],
   "source": [
    "for teacher,subject in df1[['teacher_name','subject_name']].values:\n",
    "#     print('x')\n",
    "    cur.execute(f\"select subject_id from subjects where subject_name = '{subject}';\")\n",
    "    x = cur.fetchone()[0]\n",
    "    print(x)\n"
   ]
  },
  {
   "cell_type": "code",
   "execution_count": 14,
   "id": "b458c6b4",
   "metadata": {},
   "outputs": [
    {
     "data": {
      "text/html": [
       "<div>\n",
       "<style scoped>\n",
       "    .dataframe tbody tr th:only-of-type {\n",
       "        vertical-align: middle;\n",
       "    }\n",
       "\n",
       "    .dataframe tbody tr th {\n",
       "        vertical-align: top;\n",
       "    }\n",
       "\n",
       "    .dataframe thead th {\n",
       "        text-align: right;\n",
       "    }\n",
       "</style>\n",
       "<table border=\"1\" class=\"dataframe\">\n",
       "  <thead>\n",
       "    <tr style=\"text-align: right;\">\n",
       "      <th></th>\n",
       "      <th>teacher_name</th>\n",
       "      <th>subject_name</th>\n",
       "      <th>status</th>\n",
       "    </tr>\n",
       "  </thead>\n",
       "  <tbody>\n",
       "    <tr>\n",
       "      <th>0</th>\n",
       "      <td>Arman</td>\n",
       "      <td>Maths</td>\n",
       "      <td>NaN</td>\n",
       "    </tr>\n",
       "    <tr>\n",
       "      <th>1</th>\n",
       "      <td>Neeraj</td>\n",
       "      <td>AI</td>\n",
       "      <td>NaN</td>\n",
       "    </tr>\n",
       "    <tr>\n",
       "      <th>2</th>\n",
       "      <td>Dhiraj</td>\n",
       "      <td>Chemistry</td>\n",
       "      <td>NaN</td>\n",
       "    </tr>\n",
       "    <tr>\n",
       "      <th>3</th>\n",
       "      <td>Mini</td>\n",
       "      <td>Biology</td>\n",
       "      <td>NaN</td>\n",
       "    </tr>\n",
       "  </tbody>\n",
       "</table>\n",
       "</div>"
      ],
      "text/plain": [
       "  teacher_name subject_name  status\n",
       "0        Arman        Maths     NaN\n",
       "1       Neeraj           AI     NaN\n",
       "2       Dhiraj    Chemistry     NaN\n",
       "3         Mini      Biology     NaN"
      ]
     },
     "execution_count": 14,
     "metadata": {},
     "output_type": "execute_result"
    }
   ],
   "source": [
    "df1"
   ]
  },
  {
   "cell_type": "code",
   "execution_count": 9,
   "id": "2d57cd19",
   "metadata": {},
   "outputs": [
    {
     "data": {
      "text/plain": [
       "0    Done\n",
       "1    Done\n",
       "2    Done\n",
       "3    Done\n",
       "Name: status, dtype: object"
      ]
     },
     "execution_count": 9,
     "metadata": {},
     "output_type": "execute_result"
    }
   ],
   "source": [
    "df['status']"
   ]
  },
  {
   "cell_type": "code",
   "execution_count": 12,
   "id": "26bafa12",
   "metadata": {},
   "outputs": [],
   "source": [
    "df = pd.read_excel('teacher.ods')"
   ]
  },
  {
   "cell_type": "code",
   "execution_count": 87,
   "id": "fbec6492",
   "metadata": {},
   "outputs": [
    {
     "name": "stdout",
     "output_type": "stream",
     "text": [
      "Maths\n",
      "Physics\n",
      "Chemistry\n",
      "Biology\n"
     ]
    }
   ],
   "source": [
    "for x,y in df[['teacher_name','subject_name']].values:\n",
    "    print(y)"
   ]
  },
  {
   "cell_type": "code",
   "execution_count": 84,
   "id": "eb0d63d3",
   "metadata": {},
   "outputs": [
    {
     "data": {
      "text/html": [
       "<div>\n",
       "<style scoped>\n",
       "    .dataframe tbody tr th:only-of-type {\n",
       "        vertical-align: middle;\n",
       "    }\n",
       "\n",
       "    .dataframe tbody tr th {\n",
       "        vertical-align: top;\n",
       "    }\n",
       "\n",
       "    .dataframe thead th {\n",
       "        text-align: right;\n",
       "    }\n",
       "</style>\n",
       "<table border=\"1\" class=\"dataframe\">\n",
       "  <thead>\n",
       "    <tr style=\"text-align: right;\">\n",
       "      <th></th>\n",
       "      <th>teacher_name</th>\n",
       "      <th>subject_name</th>\n",
       "    </tr>\n",
       "  </thead>\n",
       "  <tbody>\n",
       "    <tr>\n",
       "      <th>0</th>\n",
       "      <td>Arman</td>\n",
       "      <td>Maths</td>\n",
       "    </tr>\n",
       "    <tr>\n",
       "      <th>1</th>\n",
       "      <td>Neeraj</td>\n",
       "      <td>Physics</td>\n",
       "    </tr>\n",
       "    <tr>\n",
       "      <th>2</th>\n",
       "      <td>Dhiraj</td>\n",
       "      <td>Chemistry</td>\n",
       "    </tr>\n",
       "    <tr>\n",
       "      <th>3</th>\n",
       "      <td>Mini</td>\n",
       "      <td>Biology</td>\n",
       "    </tr>\n",
       "  </tbody>\n",
       "</table>\n",
       "</div>"
      ],
      "text/plain": [
       "  teacher_name subject_name\n",
       "0        Arman        Maths\n",
       "1       Neeraj      Physics\n",
       "2       Dhiraj    Chemistry\n",
       "3         Mini      Biology"
      ]
     },
     "execution_count": 84,
     "metadata": {},
     "output_type": "execute_result"
    }
   ],
   "source": [
    " df[['teacher_name','subject_name']]"
   ]
  },
  {
   "cell_type": "code",
   "execution_count": 4,
   "id": "9033c2b4",
   "metadata": {},
   "outputs": [
    {
     "name": "stdout",
     "output_type": "stream",
     "text": [
      "hi\n"
     ]
    }
   ],
   "source": [
    "print('hi')"
   ]
  },
  {
   "cell_type": "code",
   "execution_count": null,
   "id": "290b0446",
   "metadata": {},
   "outputs": [],
   "source": []
  },
  {
   "cell_type": "code",
   "execution_count": null,
   "id": "48367741",
   "metadata": {},
   "outputs": [],
   "source": []
  },
  {
   "cell_type": "markdown",
   "id": "1095f521",
   "metadata": {},
   "source": [
    "# Day 7"
   ]
  },
  {
   "cell_type": "code",
   "execution_count": 1,
   "id": "43e4253d",
   "metadata": {},
   "outputs": [],
   "source": [
    "import pandas as pd"
   ]
  },
  {
   "cell_type": "code",
   "execution_count": 2,
   "id": "a6fceaa2",
   "metadata": {},
   "outputs": [],
   "source": [
    "df = pd.read_excel('availability_table.ods')"
   ]
  },
  {
   "cell_type": "code",
   "execution_count": null,
   "id": "19130495",
   "metadata": {},
   "outputs": [],
   "source": []
  },
  {
   "cell_type": "code",
   "execution_count": 3,
   "id": "73648613",
   "metadata": {},
   "outputs": [],
   "source": [
    "days = df.columns[1:]"
   ]
  },
  {
   "cell_type": "code",
   "execution_count": null,
   "id": "bf5bc40d",
   "metadata": {},
   "outputs": [],
   "source": []
  },
  {
   "cell_type": "code",
   "execution_count": 27,
   "id": "f6453875",
   "metadata": {},
   "outputs": [],
   "source": []
  },
  {
   "cell_type": "code",
   "execution_count": 4,
   "id": "cf61b8f7",
   "metadata": {},
   "outputs": [],
   "source": [
    "import psycopg2\n",
    "import pandas as pd\n",
    "conn = psycopg2.connect('host=localhost dbname=training user=postgres')\n",
    "cur = conn.cursor()\n",
    "df = pd.read_excel('availability_table.ods')\n",
    "days = df.columns[1:]"
   ]
  },
  {
   "cell_type": "code",
   "execution_count": 5,
   "id": "0d326426",
   "metadata": {},
   "outputs": [
    {
     "name": "stdout",
     "output_type": "stream",
     "text": [
      "executed\n",
      "executed\n",
      "\n",
      "executed\n",
      "executed\n",
      "\n",
      "executed\n",
      "executed\n",
      "\n",
      "executed\n",
      "executed\n",
      "\n",
      "executed\n",
      "executed\n",
      "\n",
      "executed\n",
      "executed\n",
      "\n",
      "executed\n",
      "executed\n",
      "\n",
      "executed\n",
      "executed\n",
      "\n"
     ]
    }
   ],
   "source": [
    "full_df = pd.read_excel('availability_table.ods')\n",
    "\n",
    "# making dataframe out of the excel file\n",
    "df = full_df[full_df['status']!='Done']\n",
    "names = df['teacher_name'].values\n",
    "\n",
    "for name in names:\n",
    "    row = df[df['teacher_name']==f'{name}']\n",
    "    for day in days:\n",
    "        try:\n",
    "            timings = row[f'{day}'].values[0]\n",
    "            timings = [[int(x.split('-')[0]),int(x.split('-')[1])] for x in timings.split(',')]\n",
    "            for start,end in timings:\n",
    "                for i in range(start,end+1):\n",
    "                    try:\n",
    "                        cur.execute(f\"INSERT INTO availability(teacher_name,day,slot) VALUES('{name}','{day}','{i}-{i+1}');\")\n",
    "                        conn.commit()\n",
    "                        print('executed')\n",
    "#                     print(f'{name} {day} {i}-{i+1}')\n",
    "                    except:\n",
    "                        conn.commit()\n",
    "                        print('missed')\n",
    "                        continue\n",
    "                print()\n",
    "        except:\n",
    "            continue\n",
    "full_df['status'] = 'Done'\n",
    "full_df.to_excel('availability_table.ods',index=False)"
   ]
  },
  {
   "cell_type": "code",
   "execution_count": null,
   "id": "72cea4c1",
   "metadata": {},
   "outputs": [],
   "source": []
  },
  {
   "cell_type": "code",
   "execution_count": null,
   "id": "5ce1b275",
   "metadata": {},
   "outputs": [],
   "source": []
  },
  {
   "cell_type": "code",
   "execution_count": 29,
   "id": "770828b0",
   "metadata": {},
   "outputs": [
    {
     "data": {
      "text/html": [
       "<div>\n",
       "<style scoped>\n",
       "    .dataframe tbody tr th:only-of-type {\n",
       "        vertical-align: middle;\n",
       "    }\n",
       "\n",
       "    .dataframe tbody tr th {\n",
       "        vertical-align: top;\n",
       "    }\n",
       "\n",
       "    .dataframe thead th {\n",
       "        text-align: right;\n",
       "    }\n",
       "</style>\n",
       "<table border=\"1\" class=\"dataframe\">\n",
       "  <thead>\n",
       "    <tr style=\"text-align: right;\">\n",
       "      <th></th>\n",
       "      <th>teacher_name</th>\n",
       "      <th>Monday</th>\n",
       "      <th>Tuesday</th>\n",
       "      <th>Wednesday</th>\n",
       "      <th>Thursday</th>\n",
       "      <th>Friday</th>\n",
       "      <th>Saturday</th>\n",
       "      <th>Sunday</th>\n",
       "    </tr>\n",
       "  </thead>\n",
       "  <tbody>\n",
       "    <tr>\n",
       "      <th>0</th>\n",
       "      <td>Neeraj</td>\n",
       "      <td>15-13,15-20</td>\n",
       "      <td>9-13,15-20</td>\n",
       "      <td>9-13,15-20</td>\n",
       "      <td>9-13,15-20</td>\n",
       "      <td>9-13,15-20</td>\n",
       "      <td>9-13,15-20</td>\n",
       "      <td>NaN</td>\n",
       "    </tr>\n",
       "  </tbody>\n",
       "</table>\n",
       "</div>"
      ],
      "text/plain": [
       "  teacher_name       Monday     Tuesday   Wednesday    Thursday      Friday  \\\n",
       "0       Neeraj  15-13,15-20  9-13,15-20  9-13,15-20  9-13,15-20  9-13,15-20   \n",
       "\n",
       "     Saturday Sunday  \n",
       "0  9-13,15-20    NaN  "
      ]
     },
     "execution_count": 29,
     "metadata": {},
     "output_type": "execute_result"
    }
   ],
   "source": [
    "df[df['teacher_name']==f'{names[0]}']"
   ]
  },
  {
   "cell_type": "code",
   "execution_count": null,
   "id": "0bfc0dcb",
   "metadata": {},
   "outputs": [],
   "source": []
  },
  {
   "cell_type": "code",
   "execution_count": 30,
   "id": "932e854b",
   "metadata": {},
   "outputs": [],
   "source": [
    "a = '9-13,15-20,45-48'"
   ]
  },
  {
   "cell_type": "code",
   "execution_count": 31,
   "id": "d44e5970",
   "metadata": {},
   "outputs": [],
   "source": [
    "a= a.split(',')"
   ]
  },
  {
   "cell_type": "code",
   "execution_count": 32,
   "id": "9e874464",
   "metadata": {},
   "outputs": [],
   "source": [
    "a = [[int(x.split('-')[0]),int(x.split('-')[1])] for x in a]"
   ]
  },
  {
   "cell_type": "code",
   "execution_count": 33,
   "id": "49c2c322",
   "metadata": {},
   "outputs": [
    {
     "name": "stdout",
     "output_type": "stream",
     "text": [
      "9-10\n",
      "10-11\n",
      "11-12\n",
      "12-13\n",
      "13-14\n",
      "\n",
      "15-16\n",
      "16-17\n",
      "17-18\n",
      "18-19\n",
      "19-20\n",
      "20-21\n",
      "\n",
      "45-46\n",
      "46-47\n",
      "47-48\n",
      "48-49\n",
      "\n"
     ]
    }
   ],
   "source": [
    "for x,y in a:\n",
    "    for i in range(x,y+1):\n",
    "        print(f'{i}-{i+1}')\n",
    "    print()"
   ]
  },
  {
   "cell_type": "code",
   "execution_count": null,
   "id": "e8890699",
   "metadata": {},
   "outputs": [],
   "source": []
  },
  {
   "cell_type": "code",
   "execution_count": null,
   "id": "b7392d42",
   "metadata": {},
   "outputs": [],
   "source": []
  },
  {
   "cell_type": "code",
   "execution_count": null,
   "id": "a14f9570",
   "metadata": {},
   "outputs": [],
   "source": [
    "\"accept\": \"application/json\",\n",
    "\"accept-encoding\": \"gzip, deflate, br\",\n",
    "\"accept-language\": \"en-GB,en-US;q=0.9,en;q=0.8\",\n",
    "\"origin\": \"https://www.demandstar.com\",\n",
    "\"referer\": \"https://www.demandstar.com/\",\n",
    "\"sec-fetch-dest\": \"empty\",\n",
    "\"sec-fetch-mode\": \"cors\",\n",
    "\"sec-fetch-site\": \"same-site\",\n",
    "\"sec-gpc\": \"1\",\n",
    "\"user-agent\": \"Mozilla/5.0 (X11; Linux x86_64) AppleWebKit/537.36 (KHTML, like Gecko) Chrome/100.0.4896.60 Safari/537.36\","
   ]
  },
  {
   "cell_type": "code",
   "execution_count": null,
   "id": "d91f881b",
   "metadata": {},
   "outputs": [],
   "source": []
  },
  {
   "cell_type": "code",
   "execution_count": null,
   "id": "fad77622",
   "metadata": {},
   "outputs": [],
   "source": []
  },
  {
   "cell_type": "code",
   "execution_count": null,
   "id": "0b1fc8f6",
   "metadata": {},
   "outputs": [],
   "source": []
  },
  {
   "cell_type": "code",
   "execution_count": null,
   "id": "4984e1c7",
   "metadata": {},
   "outputs": [],
   "source": []
  },
  {
   "cell_type": "markdown",
   "id": "37f58e99",
   "metadata": {},
   "source": [
    "# Day 11"
   ]
  },
  {
   "cell_type": "code",
   "execution_count": 53,
   "id": "9facc5aa",
   "metadata": {},
   "outputs": [
    {
     "data": {
      "text/plain": [
       "['Maths',\n",
       " 'Chemistry',\n",
       " 'Drawing',\n",
       " 'Physical Education',\n",
       " 'Biology',\n",
       " 'Economics',\n",
       " 'AI',\n",
       " 'Craft',\n",
       " 'Geography',\n",
       " 'Civics']"
      ]
     },
     "execution_count": 53,
     "metadata": {},
     "output_type": "execute_result"
    }
   ],
   "source": [
    "list(dict_of_subjects.keys())"
   ]
  },
  {
   "cell_type": "code",
   "execution_count": 1,
   "id": "d23d6f45",
   "metadata": {},
   "outputs": [
    {
     "name": "stdout",
     "output_type": "stream",
     "text": [
      "Select a subject from ['Maths', 'Chemistry', 'Drawing', 'Physical Education', 'Biology', 'Economics', 'AI', 'Craft', 'Geography', 'Civics'] Maths\n",
      "select from these days: ['Thursday'] Thursday\n",
      "Choose any one from Thursday's slots: ['11-12' '12-13' '15-16' '16-17'] 12-13\n"
     ]
    }
   ],
   "source": [
    "import psycopg2\n",
    "import pandas as pd\n",
    "conn = psycopg2.connect('host=localhost dbname=training user=postgres')\n",
    "cur = conn.cursor()\n",
    "\n",
    "cur.execute('select subject_id,subject_name from subjects;')\n",
    "list_of_subjects = cur.fetchall()\n",
    "dict_of_subjects = dict()\n",
    "for subject_id,subject_name in list_of_subjects:\n",
    "    dict_of_subjects[subject_name]=subject_id\n",
    "\n",
    "while True:\n",
    "    subject_name = input(f'Select a subject from {list(dict_of_subjects.keys())} ').capitalize()\n",
    "    if subject_name not in dict_of_subjects.keys():\n",
    "        subject_name = input('Please insert a valid input from the list ').capitalize()\n",
    "    else:\n",
    "        break\n",
    "    \n",
    "subject_id = dict_of_subjects[subject_name]\n",
    "\n",
    "cur.execute(f\"select teacher_name from teachers where subject_id = '{subject_id}';\")\n",
    "\n",
    "teacher_name = cur.fetchall()\n",
    "\n",
    "length = len(teacher_name)\n",
    "df = pd.DataFrame(columns=['day','slot'])\n",
    "if length ==1:\n",
    "    cur.execute(f\"select day,slot from availability where teacher_name = '{teacher_name[0][0]}'\")\n",
    "    df = pd.DataFrame(cur.fetchall(),columns=['day','slot'])\n",
    "else:\n",
    "    while length>=1:\n",
    "        cur.execute(f\"select day,slot from availability where teacher_name = '{teacher_name[length-1][0]}'\")\n",
    "        df = pd.concat([df,pd.DataFrame(cur.fetchall(),columns=['day','slot'])])\n",
    "        length-=1\n",
    "   \n",
    "while True:      \n",
    "    day = input(f\"select from these days: {df['day'].unique()} \").capitalize()\n",
    "    if day not in df['day'].unique():\n",
    "        day = input('Please insert a valid day from the above list ').capitalize()\n",
    "    else:\n",
    "        break\n",
    "\n",
    "slots = df[df['day']==day]['slot'].values\n",
    "\n",
    "while True:      \n",
    "    slot = input(f\"Choose any one from {day}'s slots: {slots} \")\n",
    "    if slot not in slots:\n",
    "        slot = input('Please insert a valid slot from the above list ')\n",
    "    else:\n",
    "        break\n",
    "\n",
    "cur.execute(f\"select teacher_name from availability where day='{day}' and slot='{slot}'\")\n",
    "teacher = cur.fetchone()[0]\n",
    "\n",
    "# for deleting the row from availability table\n",
    "cur.execute(f\"delete from availability where day = '{day}' and slot ='{slot}' and teacher_name='{teacher}';\")\n",
    "\n",
    "# for inserting the row to time_table\n",
    "cur.execute(f\"insert into time_table values('{subject_name}','{day}','{slot}')\")\n",
    "conn.commit()"
   ]
  },
  {
   "cell_type": "code",
   "execution_count": null,
   "id": "9b6a5b72",
   "metadata": {},
   "outputs": [],
   "source": []
  },
  {
   "cell_type": "code",
   "execution_count": 2,
   "id": "186262d3",
   "metadata": {},
   "outputs": [
    {
     "data": {
      "text/plain": [
       "0    Friday\n",
       "1    Friday\n",
       "2    Friday\n",
       "Name: day, dtype: object"
      ]
     },
     "execution_count": 2,
     "metadata": {},
     "output_type": "execute_result"
    }
   ],
   "source": [
    "df['day']"
   ]
  },
  {
   "cell_type": "code",
   "execution_count": null,
   "id": "d2c10044",
   "metadata": {},
   "outputs": [],
   "source": []
  },
  {
   "cell_type": "code",
   "execution_count": null,
   "id": "58e96213",
   "metadata": {},
   "outputs": [],
   "source": []
  },
  {
   "cell_type": "code",
   "execution_count": null,
   "id": "373790c7",
   "metadata": {},
   "outputs": [],
   "source": []
  },
  {
   "cell_type": "code",
   "execution_count": null,
   "id": "663ef239",
   "metadata": {},
   "outputs": [],
   "source": []
  },
  {
   "cell_type": "code",
   "execution_count": null,
   "id": "8af7bb3c",
   "metadata": {},
   "outputs": [],
   "source": []
  },
  {
   "cell_type": "code",
   "execution_count": null,
   "id": "50d80a8b",
   "metadata": {},
   "outputs": [],
   "source": []
  },
  {
   "cell_type": "code",
   "execution_count": null,
   "id": "c416e98c",
   "metadata": {},
   "outputs": [],
   "source": []
  },
  {
   "cell_type": "code",
   "execution_count": null,
   "id": "c5d15f21",
   "metadata": {},
   "outputs": [],
   "source": [
    "stop"
   ]
  },
  {
   "cell_type": "code",
   "execution_count": 43,
   "id": "dff0ef89",
   "metadata": {},
   "outputs": [],
   "source": [
    "\n",
    "# for x in teacher_name:\n",
    "#     cur.execute(f\"select day,slot from availability where teacher_name = '{x[0]}'\")\n",
    "#     df = pd.DataFrame(cur.fetchall(),columns=['day','slot'])\n"
   ]
  },
  {
   "cell_type": "code",
   "execution_count": 44,
   "id": "a9a6f9db",
   "metadata": {},
   "outputs": [],
   "source": [
    "conn.commit()"
   ]
  },
  {
   "cell_type": "code",
   "execution_count": 46,
   "id": "1a0a66cd",
   "metadata": {},
   "outputs": [],
   "source": []
  },
  {
   "cell_type": "code",
   "execution_count": null,
   "id": "2447118b",
   "metadata": {},
   "outputs": [],
   "source": []
  },
  {
   "cell_type": "code",
   "execution_count": null,
   "id": "a9811056",
   "metadata": {},
   "outputs": [],
   "source": []
  },
  {
   "cell_type": "code",
   "execution_count": null,
   "id": "a7d156f1",
   "metadata": {},
   "outputs": [],
   "source": []
  },
  {
   "cell_type": "code",
   "execution_count": null,
   "id": "4e324099",
   "metadata": {},
   "outputs": [],
   "source": []
  },
  {
   "cell_type": "code",
   "execution_count": 3,
   "id": "4e8e4893",
   "metadata": {},
   "outputs": [],
   "source": [
    "import re"
   ]
  },
  {
   "cell_type": "code",
   "execution_count": 4,
   "id": "ce415313",
   "metadata": {},
   "outputs": [],
   "source": [
    "def splitText(text):\n",
    "    text=re.findall('[A-Z][^A-Z]*',text)\n",
    "\n",
    "    for i in range(1,len(text)):\n",
    "        if text[i-1].isupper() and text[i].isupper():\n",
    "            text[i]=text[i-1]+text[i]\n",
    "            text[i-1]=''\n",
    "    text=[x for x in text if len(x)>0] \n",
    "    return ' '.join(text)"
   ]
  },
  {
   "cell_type": "code",
   "execution_count": 11,
   "id": "1f4eacb4",
   "metadata": {},
   "outputs": [
    {
     "data": {
      "text/plain": [
       "'Jithin Aukumaran Kumar'"
      ]
     },
     "execution_count": 11,
     "metadata": {},
     "output_type": "execute_result"
    }
   ],
   "source": [
    "splitText('JithinAukumaranKumar')"
   ]
  },
  {
   "cell_type": "code",
   "execution_count": null,
   "id": "beebfae8",
   "metadata": {},
   "outputs": [],
   "source": []
  },
  {
   "cell_type": "code",
   "execution_count": null,
   "id": "b47e38f5",
   "metadata": {},
   "outputs": [],
   "source": []
  }
 ],
 "metadata": {
  "kernelspec": {
   "display_name": "Python 3 (ipykernel)",
   "language": "python",
   "name": "python3"
  },
  "language_info": {
   "codemirror_mode": {
    "name": "ipython",
    "version": 3
   },
   "file_extension": ".py",
   "mimetype": "text/x-python",
   "name": "python",
   "nbconvert_exporter": "python",
   "pygments_lexer": "ipython3",
   "version": "3.8.10"
  }
 },
 "nbformat": 4,
 "nbformat_minor": 5
}
